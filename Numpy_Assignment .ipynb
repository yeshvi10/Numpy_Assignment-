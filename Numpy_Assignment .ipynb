{
 "cells": [
  {
   "cell_type": "code",
   "execution_count": 1,
   "id": "85cb0c3f-a521-4aa7-b152-3edac89bf745",
   "metadata": {},
   "outputs": [],
   "source": [
    "# Theoretical Questions:-"
   ]
  },
  {
   "cell_type": "code",
   "execution_count": 2,
   "id": "fdebf9f3-ca8f-4801-adb6-d1091958ec0b",
   "metadata": {},
   "outputs": [],
   "source": [
    "# Question_1st:- Explain the purpose and advantages of NumPy in scientific computing and data analysis. How does it enhance Python's capabilities for numerical operations?\n"
   ]
  },
  {
   "cell_type": "code",
   "execution_count": 3,
   "id": "56667112-27b1-4e4f-b1f2-8469a4afbaff",
   "metadata": {},
   "outputs": [],
   "source": [
    "# NumPy is a Python library that provides powerful tools for numerical computing. \n",
    "  #  It enhances Python's capabilities by offering:\n",
    "\n",
    "      # 1.Efficient Arrays: NumPy introduces the ndarray object, which allows for efficient storage and manipulation of large datasets, much faster than Python's built-in lists.\n",
    "\n",
    "      # 2.Mathematical Functions: It includes a wide range of mathematical functions to perform complex calculations on arrays, like matrix operations, Fourier transforms, and statistical analyses.\n",
    "\n",
    "      # 3.Vectorization: NumPy enables vectorized operations, meaning you can apply functions to entire arrays without writing loops, making the code faster and easier to read.\n",
    "\n",
    "      # 4.Interoperability: It integrates well with other scientific computing libraries like SciPy and Pandas, making it a key tool in data analysis workflows.\n",
    "\n",
    "# NumPy makes numerical operations in Python more efficient, faster, and easier, which is essential for scientific computing and data analysis."
   ]
  },
  {
   "cell_type": "code",
   "execution_count": 4,
   "id": "12b98e2c-61bd-4542-9031-e49ea5342bc2",
   "metadata": {},
   "outputs": [],
   "source": [
    "# Question_2nd:- Compare and contrast np.mean() and np.average() functions in NumPy. When would you use one over the other?"
   ]
  },
  {
   "cell_type": "code",
   "execution_count": 7,
   "id": "e913d7a7-dd45-4965-91aa-6facd0edb73e",
   "metadata": {},
   "outputs": [
    {
     "name": "stdout",
     "output_type": "stream",
     "text": [
      "3.0\n",
      "3.6666666666666665\n"
     ]
    }
   ],
   "source": [
    "# np.mean() and np.average() in NumPy calculate the average of an array, but they have some differences:\n",
    "  \n",
    "# np.mean():-\n",
    "           # Purpose: Computes the simple arithmetic mean (average) of the elements in an array.\n",
    "           # Usage: Use when you want a straightforward average of values.\n",
    "# example of np.mean():-\n",
    "import numpy as np\n",
    "data = np.array([1, 2, 3, 4, 5])\n",
    "result = np.mean(data)\n",
    "print(result)\n",
    "\n",
    "\n",
    "# np.average():-\n",
    "           # Purpose: Computes the weighted average, where each element can have a different weight.\n",
    "           # Usage: Use when you need to account for different weights for elements\n",
    "# example of np.average():-\n",
    "weights = np.array([1, 2, 3, 4, 5])\n",
    "result = np.average(data, weights=weights)  # Output: 3.6667\n",
    "print(result)\n",
    "\n"
   ]
  },
  {
   "cell_type": "code",
   "execution_count": 8,
   "id": "37ba968b-d876-4e6c-b6d6-1dec39710e65",
   "metadata": {},
   "outputs": [],
   "source": [
    "# Question_3rd:- Describe the methods for reversing a NumPy array along different axes. Provide examples for 1D and 2D arrays."
   ]
  },
  {
   "cell_type": "code",
   "execution_count": 16,
   "id": "7c2f249b-1034-4bd5-96bc-7c5267e6e4b3",
   "metadata": {},
   "outputs": [
    {
     "name": "stdout",
     "output_type": "stream",
     "text": [
      "[5 4 3 2 1]\n",
      "===================\n",
      "[[7 8 9]\n",
      " [4 5 6]\n",
      " [1 2 3]]\n",
      "================\n",
      "[[3 2 1]\n",
      " [6 5 4]\n",
      " [9 8 7]]\n",
      "===============\n",
      "[[9 8 7]\n",
      " [6 5 4]\n",
      " [3 2 1]]\n"
     ]
    }
   ],
   "source": [
    "# you can reverse an array along different axes using slicing or specific functions. \n",
    "\n",
    "# 1. Reversing a 1D Array:- Method: Use slicing with [::-1] to reverse the array.\n",
    "\n",
    "# Example of 1D Array reverse:-\n",
    "import numpy as np\n",
    "arr_1d = np.array([1, 2, 3, 4, 5])\n",
    "reversed_arr_1d = arr_1d[::-1]\n",
    "print(reversed_arr_1d)\n",
    "print(\"===================\")\n",
    "\n",
    "# 2. Reversing a 2D Array:- You can reverse along different axes:\n",
    "\n",
    "   # a.Reversing along rows (axis 0):-Method: Use slicing [::-1, :].\n",
    "# Example of  Reversing along rows (axis 0):-\n",
    "\n",
    "arr_2d = np.array([[1, 2, 3], [4, 5, 6], [7, 8, 9]])\n",
    "reversed_rows = arr_2d[::-1, :]\n",
    "print(reversed_rows)\n",
    "print(\"================\")\n",
    "\n",
    "  # b.Reversing along columns (axis 1):-Method: Use slicing [:, ::-1].\n",
    "# Example of Reversing along columns (axis 1):-\n",
    "reversed_columns = arr_2d[:, ::-1]\n",
    "print(reversed_columns)\n",
    "print(\"===============\")\n",
    " \n",
    "    # C.Reversing both axes:-Method: Use slicing [::-1, ::-1].\n",
    "# Example of Reversing both axes:-\n",
    "reversed_both = arr_2d[::-1, ::-1]\n",
    "print(reversed_both)\n"
   ]
  },
  {
   "cell_type": "code",
   "execution_count": 17,
   "id": "e234169e-e855-4ef5-9854-995dd451f049",
   "metadata": {},
   "outputs": [],
   "source": [
    "# Question_4th:- How can you determine the data type of elements in a NumPy array? Discuss the importance of data types in memory management and performance.\n"
   ]
  },
  {
   "cell_type": "code",
   "execution_count": 18,
   "id": "cf1c7842-311c-489e-8c41-6a06bce72da9",
   "metadata": {},
   "outputs": [
    {
     "name": "stdout",
     "output_type": "stream",
     "text": [
      "int64\n"
     ]
    }
   ],
   "source": [
    "# the data type of elements in a NumPy array, you can use the .dtype attribute. Here's how you do it:\n",
    "\n",
    "# 1.Memory Management:\n",
    "           # Efficient Storage: Different data types use different amounts of memory. For example, an int32 takes 4 bytes, while an int64 takes 8 bytes. Choosing the right data type can save memory, especially with large arrays.\n",
    "           # Example: Using int8 (1 byte) instead of int64 (8 bytes) for storing small integers reduces memory usage by 8 times.\n",
    "# 2.Performance:\n",
    "          # Faster Operations: Operations on smaller data types (e.g., int32 vs. int64) are generally faster because they require less data to be processed.\n",
    "          # Example: If you’re performing calculations on a large dataset of small integers, using int32 instead of int64 can speed up the computations.\n",
    "# Data Type Check: Use .dtype to determine the data type.\n",
    "#Importance: Proper data type selection optimizes memory usage and improves computational speed, which is crucial in handling large datasets.\n",
    "\n",
    "\n",
    "# example:-\n",
    "import numpy as np\n",
    "arr = np.array([1, 2, 3])\n",
    "print(arr.dtype)  # Output: int32 (or int64 depending on your system)"
   ]
  },
  {
   "cell_type": "code",
   "execution_count": 20,
   "id": "bfdb8377-7db4-4087-9baf-2b2881de999f",
   "metadata": {},
   "outputs": [],
   "source": [
    "# Question_5th:- Define ndarrays in NumPy and explain their key features. How do they differ from standard Python lists?"
   ]
  },
  {
   "cell_type": "code",
   "execution_count": 21,
   "id": "21e1d5d3-b326-4ad2-ada8-26189e17f393",
   "metadata": {},
   "outputs": [],
   "source": [
    "# It is a powerful, multidimensional container for homogeneous data, meaning all elements have the same data type.\n",
    "\n",
    "# Key Features of ndarrays:\n",
    "  # 1.Multidimensionality: ndarrays can have multiple dimensions, such as 1D (vectors), 2D (matrices), or higher dimensions.\n",
    "  # 2.Homogeneous Data: All elements in an ndarray must be of the same data type (e.g., all integers, all floats).\n",
    "  # 3.Efficient Memory Use: ndarrays are stored in contiguous memory locations, which allows for fast access and efficient storage compared to standard Python lists.\n",
    "  # 4.Broadcasting: NumPy supports broadcasting, which allows operations on arrays of different shapes without needing explicit looping.\n",
    "  # 5.Vectorized Operations: Operations on ndarrays are applied element-wise without the need for explicit loops, leading to faster and more concise code.\n",
    "\n",
    "    \n",
    "# Differences from Standard Python Lists:\n",
    "# 1.Data Type Consistency:\n",
    "                   # ndarray: All elements must have the same data type.\n",
    "                   # Python List: Elements can have mixed data types.\n",
    "# 2.Performance:\n",
    "\n",
    "                   # ndarray: Faster for numerical computations due to contiguous memory storage and support for vectorized operations.\n",
    "                   # Python List: Slower for large-scale numerical operations because it lacks these optimizations.\n",
    "# 3.Memory Efficiency:\n",
    "\n",
    "                   # ndarray: More memory-efficient due to fixed-size elements and contiguous memory layout.\n",
    "                   # Python List: Less memory-efficient, with each element being a full-fledged Python object, leading to overhead.\n",
    "# 4.Multidimensional Support:\n",
    "\n",
    "                   # ndarray: Naturally supports multiple dimensions, such as 2D, 3D, etc.\n",
    "                   # Python List: Can mimic multidimensionality with nested lists, but it is less efficient and harder to work with."
   ]
  },
  {
   "cell_type": "code",
   "execution_count": 22,
   "id": "03ff8dd6-84c9-4661-ab5d-6fdf006f6786",
   "metadata": {},
   "outputs": [],
   "source": [
    "# Question_6th:- Analyze the performance benefits of NumPy arrays over Python lists for large-scale numerical operations.\n"
   ]
  },
  {
   "cell_type": "code",
   "execution_count": 23,
   "id": "1b5e0d3e-f986-4fc0-b83d-3d1d0f2e3864",
   "metadata": {},
   "outputs": [],
   "source": [
    "# NumPy arrays offer significant performance benefits over Python lists for large-scale numerical operations due to:\n",
    "\n",
    "# 1.Faster Computations:\n",
    "             # NumPy arrays are optimized for numerical operations with C-based implementation, making them much faster than Python lists, especially for large datasets.\n",
    "# 2.Memory Efficiency:\n",
    "             # NumPy arrays use contiguous memory and fixed-size elements, reducing memory usage compared to Python lists, which have overhead due to each element being a full Python object.\n",
    "# 3.Vectorized Operations:\n",
    "\n",
    "              # NumPy supports vectorized operations, allowing you to perform element-wise calculations without explicit loops, which speeds up processing.\n",
    "# NumPy arrays are faster, more memory-efficient, and support vectorized operations, making them ideal for large-scale numerical tasks compared to Python lists.\n",
    "\n"
   ]
  },
  {
   "cell_type": "code",
   "execution_count": 24,
   "id": "fd388aec-e729-44ce-8e15-f141daef01fe",
   "metadata": {},
   "outputs": [],
   "source": [
    "# Question_7:- Compare vstack() and hstack() functions in NumPy. Provide examples demonstrating their usage andoutput.\n"
   ]
  },
  {
   "cell_type": "code",
   "execution_count": 30,
   "id": "26c2d8ff-cdab-4953-8426-56e6429623b3",
   "metadata": {},
   "outputs": [
    {
     "name": "stdout",
     "output_type": "stream",
     "text": [
      "[[1 2 3]\n",
      " [4 5 6]]\n",
      "=================\n",
      "[1 2 3 4 5 6]\n"
     ]
    }
   ],
   "source": [
    "# vstack() and hstack() are used to stack arrays along different axes:\n",
    "\n",
    "# 1. vstack() (Vertical Stack):- Purpose: Stacks arrays vertically (row-wise), one on top of the other.\n",
    "\n",
    "# Example of vstack:-\n",
    "\n",
    "import numpy as np\n",
    "arr1 = np.array([1, 2, 3])\n",
    "arr2 = np.array([4, 5, 6])\n",
    "result = np.vstack((arr1, arr2))\n",
    "print(result)\n",
    "print(\"=================\")\n",
    "\n",
    "# 2.hstack() (Horizontal Stack):-Purpose: Stacks arrays horizontally (column-wise), side by side.\n",
    "\n",
    "# Example of hstack:-\n",
    "import numpy as np\n",
    "arr1 = np.array([1, 2, 3])\n",
    "arr2 = np.array([4, 5, 6])\n",
    "result = np.hstack((arr1, arr2))\n",
    "print(result)\n"
   ]
  },
  {
   "cell_type": "code",
   "execution_count": 31,
   "id": "d02772a1-80a6-49dd-992a-0118160aef4c",
   "metadata": {},
   "outputs": [],
   "source": [
    "# Question_8th:-. Explain the differences between fliplr() and flipud() methods in NumPy, including their effects on various array dimensions."
   ]
  },
  {
   "cell_type": "code",
   "execution_count": 34,
   "id": "30afbe2c-24c1-491b-81c4-172ebd8f27a5",
   "metadata": {},
   "outputs": [
    {
     "name": "stdout",
     "output_type": "stream",
     "text": [
      "[[3 2 1]\n",
      " [6 5 4]]\n",
      "=========================================\n",
      "[[4 5 6]\n",
      " [1 2 3]]\n"
     ]
    }
   ],
   "source": [
    "# fliplr() and flipud() are used to reverse the order of elements in arrays along different dimensions:\n",
    "\n",
    "# fliplr() (Flip Left-Right):-\n",
    "                    # Purpose: Reverses the order of elements along the horizontal axis (left to right).\n",
    "                    # Effect: Applies to 2D arrays, flipping columns from left to right.\n",
    "# Example:-\n",
    "import numpy as np\n",
    "arr = np.array([[1, 2, 3], [4, 5, 6]])\n",
    "result = np.fliplr(arr)\n",
    "print(result)\n",
    "print(\"=========================================\")\n",
    "\n",
    "\n",
    "# flipud() (Flip Up-Down):-\n",
    "                  # Purpose: Reverses the order of elements along the vertical axis (top to bottom).\n",
    "                  # Effect: Applies to 2D arrays, flipping rows from top to bottom\n",
    "        \n",
    "# Example:-\n",
    "import numpy as np\n",
    "arr = np.array([[1, 2, 3], [4, 5, 6]])\n",
    "result = np.flipud(arr)\n",
    "print(result)\n"
   ]
  },
  {
   "cell_type": "code",
   "execution_count": 1,
   "id": "3af92208-55c7-4dff-8732-9d18403422ce",
   "metadata": {},
   "outputs": [],
   "source": [
    "# Question_9th:- Discuss the functionality of the array_split() method in NumPy. How does it handle uneven splits?"
   ]
  },
  {
   "cell_type": "code",
   "execution_count": 3,
   "id": "043cb016-161a-4496-890e-621ff634ec34",
   "metadata": {},
   "outputs": [
    {
     "name": "stdout",
     "output_type": "stream",
     "text": [
      "[array([1, 2, 3]), array([4, 5]), array([6, 7]), array([8, 9])]\n",
      "[array([1, 2]), array([3, 4, 5]), array([6, 7]), array([8, 9])]\n"
     ]
    }
   ],
   "source": [
    "# the array_split() method in NumPy is used to split an array into multiple sub-arrays. It provides flexibility in how the array is divided, including handling cases where the array cannot be evenly split.\n",
    "\n",
    "\n",
    "# Functionality:\n",
    "           # Purpose: To split an array into a specified number of sub-arrays or based on specific indices.\n",
    "           # Usage: np.array_split(array, indices_or_sections)\n",
    "# Handling Uneven Splits:\n",
    "                # Even Splits: If the total number of elements can be evenly divided by the number of sections, each sub-array will have the same size.\n",
    "                # Uneven Splits: When the total number of elements does not divide evenly, the resulting sub-arrays will have sizes as equal as possible. Some sub-arrays may have one more element than others.\n",
    "\n",
    "        \n",
    "# Splitting into Equal Sections:-\n",
    "\n",
    "import numpy as np\n",
    "arr = np.array([1, 2, 3, 4, 5, 6, 7, 8, 9])\n",
    "result = np.array_split(arr, 4)\n",
    "print(result)\n",
    "\n",
    "\n",
    "# Splitting by Indices::-\n",
    "indices = [2, 5, 7]\n",
    "result = np.array_split(arr, indices)\n",
    "print(result)\n"
   ]
  },
  {
   "cell_type": "code",
   "execution_count": 10,
   "id": "f59beed3-f9fa-4573-8b6e-6adb6819b4fd",
   "metadata": {},
   "outputs": [],
   "source": [
    "# Question_10:-Explain the concepts of vectorization and broadcasting in NumPy. How do they contribute to efficient array operations?"
   ]
  },
  {
   "cell_type": "code",
   "execution_count": 13,
   "id": "75da2c5d-aba3-4827-8a42-37f5e96a525b",
   "metadata": {},
   "outputs": [
    {
     "name": "stdout",
     "output_type": "stream",
     "text": [
      "[6 7 8]\n",
      "=========================\n",
      "[[11 12]\n",
      " [13 14]]\n",
      "========================================================\n",
      "[[1 2 3]\n",
      " [4 5 6]]\n",
      "============================\n",
      "[10 20 30]\n",
      "===========================\n",
      "[[ 10  40  90]\n",
      " [ 40 100 180]]\n"
     ]
    }
   ],
   "source": [
    "# Vectorization:\n",
    "      # Concept: Vectorization refers to applying operations on entire arrays at once, rather than using explicit loops. This leverages low-level optimizations for faster computation.\n",
    "# Example: Instead of looping through each element to add 5, you can do:\n",
    "import numpy as np\n",
    "arr = np.array([1, 2, 3])\n",
    "result = arr + 5  \n",
    "\n",
    "print(result)\n",
    "print(\"=========================\")\n",
    "\n",
    "# Broadcasting:\n",
    "           # Concept: Broadcasting allows NumPy to perform operations on arrays of different shapes by automatically expanding the smaller array to match the larger one’s shape.\n",
    "\n",
    "# Example:\n",
    "arr = np.array([[1, 2], [3, 4]])\n",
    "result = arr + 10\n",
    "print(result)\n",
    "print(\"========================================================\")\n",
    "\n",
    "import numpy as np\n",
    "\n",
    "\n",
    "arr_2d = np.array([[1, 2, 3], [4, 5, 6]])\n",
    "arr_1d = np.array([10, 20, 30])\n",
    "print(arr_2d)\n",
    "print(\"============================\")\n",
    "print(arr_1d)\n",
    "print(\"===========================\")\n",
    "result = arr_2d * arr_1d\n",
    "print(result)\n",
    "\n",
    "\n",
    "\n",
    "\n"
   ]
  },
  {
   "cell_type": "code",
   "execution_count": 14,
   "id": "6ba1e8fd-f31d-47b5-aed2-046b88475429",
   "metadata": {},
   "outputs": [],
   "source": [
    "# Practical Questions:-"
   ]
  },
  {
   "cell_type": "code",
   "execution_count": 15,
   "id": "7cbd77ec-dd60-4217-b6f5-24efe72c3898",
   "metadata": {},
   "outputs": [],
   "source": [
    "# Question_1st:- Create a 3x3 NumPy array with random integers between 1 and 100. Then, interchange its rows and columns."
   ]
  },
  {
   "cell_type": "code",
   "execution_count": 18,
   "id": "bfd7add3-e1d1-464e-b10b-b110be48b6df",
   "metadata": {},
   "outputs": [
    {
     "name": "stdout",
     "output_type": "stream",
     "text": [
      "Original Array:\n",
      "[[70 85  5]\n",
      " [ 2 87 31]\n",
      " [71 44 85]]\n",
      "================================\n",
      "\n",
      "Transposed Array:\n",
      "[[70  2 71]\n",
      " [85 87 44]\n",
      " [ 5 31 85]]\n"
     ]
    }
   ],
   "source": [
    "import numpy as np\n",
    "\n",
    "# Create a 3x3 array with random integers between 1 and 100\n",
    "arr = np.random.randint(1, 101, size=(3, 3))\n",
    "print(\"Original Array:\")\n",
    "print(arr)\n",
    "print(\"================================\")\n",
    "print(\"\\nTransposed Array:\")\n",
    "\n",
    "print(arr.T)"
   ]
  },
  {
   "cell_type": "code",
   "execution_count": 19,
   "id": "2fdd81d7-c758-4f9e-8528-e6f2f061268a",
   "metadata": {},
   "outputs": [],
   "source": [
    "# Question_2nd:- Generate a 1D NumPy array with 10 elements. Reshape it into a 2x5 array, then into a 5x2 array."
   ]
  },
  {
   "cell_type": "code",
   "execution_count": 23,
   "id": "1a342c5e-5cf1-4881-a8db-9079344f4b68",
   "metadata": {},
   "outputs": [
    {
     "name": "stdout",
     "output_type": "stream",
     "text": [
      "Original 1D Array:\n",
      "[0 1 2 3 4 5 6 7 8 9]\n",
      "=======================\n",
      "\n",
      "Reshaped into 2x5 Array:\n",
      "[[0 1 2 3 4]\n",
      " [5 6 7 8 9]]\n",
      "===================\n",
      "\n",
      "Reshaped into 5x2 Array:\n",
      "[[0 1]\n",
      " [2 3]\n",
      " [4 5]\n",
      " [6 7]\n",
      " [8 9]]\n"
     ]
    }
   ],
   "source": [
    "import numpy as np\n",
    "arr_1d = np.arange(10)\n",
    "print(\"Original 1D Array:\")\n",
    "print(arr_1d)\n",
    "print(\"=======================\")\n",
    "# Reshape the 1D array into a 2x5 array\n",
    "arr_2x5 = arr_1d.reshape(2, 5)\n",
    "print(\"\\nReshaped into 2x5 Array:\")\n",
    "print(arr_2x5)\n",
    "print(\"===================\")\n",
    "\n",
    "# Reshape the 2x5 array into a 5x2 array\n",
    "arr_5x2 = arr_2x5.reshape(5, 2)\n",
    "print(\"\\nReshaped into 5x2 Array:\")\n",
    "print(arr_5x2)\n"
   ]
  },
  {
   "cell_type": "code",
   "execution_count": 24,
   "id": "5e96680a-851c-45ff-829b-601e8f252608",
   "metadata": {},
   "outputs": [],
   "source": [
    "# Question_3rd:- Create a 4x4 NumPy array with random float values. Add a border of zeros around it, resulting in a 6x6 array."
   ]
  },
  {
   "cell_type": "code",
   "execution_count": 27,
   "id": "f35c1d53-000b-429e-be44-5983c7c78a1f",
   "metadata": {},
   "outputs": [
    {
     "name": "stdout",
     "output_type": "stream",
     "text": [
      "Original 4x4 Array:\n",
      "[[0.05800716 0.29064603 0.58216316 0.60941128]\n",
      " [0.37868156 0.65306847 0.54691625 0.38697215]\n",
      " [0.66436172 0.52065112 0.54066659 0.3682084 ]\n",
      " [0.77402872 0.7284984  0.55421911 0.52680138]]\n",
      "===========================\n",
      "\n",
      "6x6 Array with Zero Border:\n",
      "[[0.         0.         0.         0.         0.         0.        ]\n",
      " [0.         0.05800716 0.29064603 0.58216316 0.60941128 0.        ]\n",
      " [0.         0.37868156 0.65306847 0.54691625 0.38697215 0.        ]\n",
      " [0.         0.66436172 0.52065112 0.54066659 0.3682084  0.        ]\n",
      " [0.         0.77402872 0.7284984  0.55421911 0.52680138 0.        ]\n",
      " [0.         0.         0.         0.         0.         0.        ]]\n"
     ]
    }
   ],
   "source": [
    "import numpy as np\n",
    "\n",
    "# Create a 4x4 array with random float values\n",
    "arr_4x4 = np.random.rand(4, 4)\n",
    "print(\"Original 4x4 Array:\")\n",
    "print(arr_4x4)\n",
    "\n",
    "print(\"===========================\")\n",
    "# Add a border of zeros around the 4x4 array\n",
    "arr_6x6 = np.pad(arr_4x4, pad_width=1, mode='constant', constant_values=0)\n",
    "print(\"\\n6x6 Array with Zero Border:\")\n",
    "print(arr_6x6)\n"
   ]
  },
  {
   "cell_type": "code",
   "execution_count": 28,
   "id": "1b2083fe-28ba-4b0e-896f-3c808f390cb5",
   "metadata": {},
   "outputs": [],
   "source": [
    "# Question_4th:- Using NumPy, create an array of integers from 10 to 60 with a step of 5."
   ]
  },
  {
   "cell_type": "code",
   "execution_count": 29,
   "id": "65995642-022a-499d-97d6-791a69e6ce52",
   "metadata": {},
   "outputs": [
    {
     "name": "stdout",
     "output_type": "stream",
     "text": [
      "[10 15 20 25 30 35 40 45 50 55 60]\n"
     ]
    }
   ],
   "source": [
    "import numpy as np\n",
    "arr = np.arange(10, 65, 5)\n",
    "print(arr)\n"
   ]
  },
  {
   "cell_type": "code",
   "execution_count": 30,
   "id": "6f1a42e5-3287-4072-bfbc-af11def72cf2",
   "metadata": {},
   "outputs": [],
   "source": [
    "# Question_5th:- Create a NumPy array of strings ['python', 'numpy', 'pandas']. Apply different case transformations(uppercase, lowercase, title case, etc.) to each element."
   ]
  },
  {
   "cell_type": "code",
   "execution_count": 32,
   "id": "e1c2f08d-b841-40e5-9269-81f255fd7a6d",
   "metadata": {},
   "outputs": [
    {
     "name": "stdout",
     "output_type": "stream",
     "text": [
      "Original Array:\n",
      "['python' 'numpy' 'pandas']\n",
      "\n",
      "Uppercase:\n",
      "['PYTHON' 'NUMPY' 'PANDAS']\n",
      "\n",
      "Lowercase:\n",
      "['python' 'numpy' 'pandas']\n",
      "\n",
      "Title Case:\n",
      "['Python' 'Numpy' 'Pandas']\n"
     ]
    }
   ],
   "source": [
    "import numpy as np\n",
    "\n",
    "arr = np.array(['python', 'numpy', 'pandas'])\n",
    "\n",
    "uppercase = np.char.upper(arr)\n",
    "lowercase = np.char.lower(arr)\n",
    "titlecase = np.char.title(arr)\n",
    "\n",
    "print(\"Original Array:\")\n",
    "print(arr)\n",
    "print(\"\\nUppercase:\")\n",
    "print(uppercase)\n",
    "print(\"\\nLowercase:\")\n",
    "print(lowercase)\n",
    "print(\"\\nTitle Case:\")\n",
    "print(titlecase)\n"
   ]
  },
  {
   "cell_type": "code",
   "execution_count": 33,
   "id": "74debfe1-1531-4db4-977e-013c6216e3a3",
   "metadata": {},
   "outputs": [],
   "source": [
    "# Question_6th:-. Generate a NumPy array of words. Insert a space between each character of every word in the array."
   ]
  },
  {
   "cell_type": "code",
   "execution_count": 34,
   "id": "943c7215-9143-42fc-960b-26574dee8b39",
   "metadata": {},
   "outputs": [
    {
     "name": "stdout",
     "output_type": "stream",
     "text": [
      "Original Array:\n",
      "['hello' 'world' 'numpy']\n",
      "\n",
      "Words with Spaces:\n",
      "['h e l l o' 'w o r l d' 'n u m p y']\n"
     ]
    }
   ],
   "source": [
    "import numpy as np\n",
    "\n",
    "# Create a NumPy array of words\n",
    "words = np.array(['hello', 'world', 'numpy'])\n",
    "\n",
    "# Insert a space between each character of every word\n",
    "words_with_spaces = np.char.join(' ', words)\n",
    "\n",
    "# Print the result\n",
    "print(\"Original Array:\")\n",
    "print(words)\n",
    "print(\"\\nWords with Spaces:\")\n",
    "print(words_with_spaces)\n"
   ]
  },
  {
   "cell_type": "code",
   "execution_count": 35,
   "id": "20684824-844c-4379-a530-002c4b53b1b3",
   "metadata": {},
   "outputs": [],
   "source": [
    "# Question:-7th:- Create two 2D NumPy arrays and perform element-wise addition, subtraction, multiplication, and division."
   ]
  },
  {
   "cell_type": "code",
   "execution_count": 38,
   "id": "3e864b27-9c99-4427-8f51-c56e0fc4281e",
   "metadata": {},
   "outputs": [
    {
     "name": "stdout",
     "output_type": "stream",
     "text": [
      "Array 1:\n",
      "[[1 2 3]\n",
      " [4 5 6]]\n",
      "\n",
      "Array 2:\n",
      "[[ 7  8  9]\n",
      " [10 11 12]]\n",
      "\n",
      "Element-wise Addition:\n",
      "[[ 8 10 12]\n",
      " [14 16 18]]\n",
      "\n",
      "Element-wise Subtraction:\n",
      "[[-6 -6 -6]\n",
      " [-6 -6 -6]]\n",
      "\n",
      "Element-wise Multiplication:\n",
      "[[ 7 16 27]\n",
      " [40 55 72]]\n",
      "\n",
      "Element-wise Division:\n",
      "[[0.14285714 0.25       0.33333333]\n",
      " [0.4        0.45454545 0.5       ]]\n"
     ]
    }
   ],
   "source": [
    "import numpy as np\n",
    "\n",
    "# Create two 2D NumPy arrays\n",
    "array1 = np.array([[1, 2, 3], [4, 5, 6]])\n",
    "array2 = np.array([[7, 8, 9], [10, 11, 12]])\n",
    "\n",
    "# Element-wise addition\n",
    "addition = array1 + array2\n",
    "\n",
    "# Element-wise subtraction\n",
    "subtraction = array1 - array2\n",
    "\n",
    "# Element-wise multiplication\n",
    "multiplication = array1 * array2\n",
    "\n",
    "# Element-wise division\n",
    "division = array1 / array2\n",
    "\n",
    "# Print the results\n",
    "print(\"Array 1:\")\n",
    "print(array1)\n",
    "print(\"\\nArray 2:\")\n",
    "print(array2)\n",
    "print(\"\\nElement-wise Addition:\")\n",
    "print(addition)\n",
    "print(\"\\nElement-wise Subtraction:\")\n",
    "print(subtraction)\n",
    "print(\"\\nElement-wise Multiplication:\")\n",
    "print(multiplication)\n",
    "print(\"\\nElement-wise Division:\")\n",
    "print(division)\n"
   ]
  },
  {
   "cell_type": "code",
   "execution_count": 39,
   "id": "fc87c3fc-88a8-4b05-99b5-81439037999f",
   "metadata": {},
   "outputs": [],
   "source": [
    "# Question_8th:- Use NumPy to create a 5x5 identity matrix, then extract its diagonal elements"
   ]
  },
  {
   "cell_type": "code",
   "execution_count": 41,
   "id": "76f364f2-e8e9-4f3c-9908-f1fdab14ab9c",
   "metadata": {},
   "outputs": [
    {
     "name": "stdout",
     "output_type": "stream",
     "text": [
      "Identity Matrix:\n",
      "[[1. 0. 0. 0. 0.]\n",
      " [0. 1. 0. 0. 0.]\n",
      " [0. 0. 1. 0. 0.]\n",
      " [0. 0. 0. 1. 0.]\n",
      " [0. 0. 0. 0. 1.]]\n",
      "Diagonal Elements:\n",
      "[1. 1. 1. 1. 1.]\n"
     ]
    }
   ],
   "source": [
    "import numpy as np\n",
    "identity_matrix = np.eye(5)\n",
    "diagonal_elements = np.diag(identity_matrix)\n",
    "\n",
    "print(\"Identity Matrix:\")\n",
    "print(identity_matrix)\n",
    "\n",
    "print(\"Diagonal Elements:\")\n",
    "print(diagonal_elements)\n"
   ]
  },
  {
   "cell_type": "code",
   "execution_count": 42,
   "id": "bd78acf2-ad22-4195-a920-73ad48a8316f",
   "metadata": {},
   "outputs": [],
   "source": [
    "# Question:-9th:- Generate a NumPy array of 100 random integers between 0 and 1000. Find and display all prime numbers inthis array"
   ]
  },
  {
   "cell_type": "code",
   "execution_count": 43,
   "id": "bbead26f-477c-44bf-97fe-1bad13dce4c2",
   "metadata": {},
   "outputs": [
    {
     "name": "stdout",
     "output_type": "stream",
     "text": [
      "Random Array:\n",
      "[116 953  72 137 175 947 466 818 895 391  80 618 764 736 268 119 882 475\n",
      " 853 149 262 891 125 822 606 173 155 327 579 954 901 907 989 728 764 237\n",
      " 245 653  46 306 435 706 181 355 685 741 846 217 266 116  61 653 329 835\n",
      " 394 107 921   4 564  71 235 198  82 198 120 167 901 588  35 945 973 758\n",
      "  73 416 337 300 596 554 220 209 236 194 277 801 629 814 663 691 273  48\n",
      " 703  85 687 539 357 824 369 822 853 563]\n",
      "Sorted Prime Numbers:\n",
      "[ 61  71  73 107 137 149 167 173 181 277 337 563 653 653 691 853 853 907\n",
      " 947 953]\n"
     ]
    }
   ],
   "source": [
    "import numpy as np\n",
    "\n",
    "# Simplified function to check if a number is prime\n",
    "def is_prime(n):\n",
    "    if n <= 1:\n",
    "        return False\n",
    "    if n <= 3:\n",
    "        return True\n",
    "    if n % 2 == 0 or n % 3 == 0:\n",
    "        return False\n",
    "    # Check for factors from 5 to sqrt(n)\n",
    "    for i in range(5, int(n**0.5) + 1, 6):\n",
    "        if n % i == 0 or n % (i + 2) == 0:\n",
    "            return False\n",
    "    return True\n",
    "\n",
    "# Generate a NumPy array of 100 random integers between 0 and 1000\n",
    "random_array = np.random.randint(0, 1001, size=100)\n",
    "\n",
    "# Find and sort all prime numbers in the array\n",
    "prime_numbers = np.array(sorted([num for num in random_array if is_prime(num)]))\n",
    "\n",
    "print(\"Random Array:\")\n",
    "print(random_array)\n",
    "\n",
    "print(\"Sorted Prime Numbers:\")\n",
    "print(prime_numbers)\n"
   ]
  },
  {
   "cell_type": "code",
   "execution_count": 44,
   "id": "542e7fa8-115c-444b-9344-ecbc16010f2c",
   "metadata": {},
   "outputs": [],
   "source": [
    "# Question:-10:- Create a NumPy array representing daily temperatures for a month. Calculate and display the weekly averages."
   ]
  },
  {
   "cell_type": "code",
   "execution_count": 48,
   "id": "483151a3-c7ac-4a80-b9a7-59e1f6a9a0c2",
   "metadata": {},
   "outputs": [
    {
     "name": "stdout",
     "output_type": "stream",
     "text": [
      "Daily Temperatures:\n",
      "[10.34722609 -1.60168076 22.1637312  34.31434126 -8.84137283 15.39227047\n",
      " 28.60803283 28.08729295 22.48756976  3.84726163 18.96973683  5.14813977\n",
      " -6.63482822 10.81846618  1.14867769  5.2616379  31.29248187  8.48510873\n",
      " 22.46068346 28.5344175   4.75759479  3.23789751 -7.85049103 15.1228694\n",
      " 17.52647978 -9.81836871  0.67702123  3.36241677]\n",
      "\n",
      "Weekly Temperatures:\n",
      "[[10.34722609 -1.60168076 22.1637312  34.31434126 -8.84137283 15.39227047\n",
      "  28.60803283]\n",
      " [28.08729295 22.48756976  3.84726163 18.96973683  5.14813977 -6.63482822\n",
      "  10.81846618]\n",
      " [ 1.14867769  5.2616379  31.29248187  8.48510873 22.46068346 28.5344175\n",
      "   4.75759479]\n",
      " [ 3.23789751 -7.85049103 15.1228694  17.52647978 -9.81836871  0.67702123\n",
      "   3.36241677]]\n",
      "\n",
      "Weekly Averages:\n",
      "[14.34036404 11.8176627  14.56294313  3.17968928]\n"
     ]
    }
   ],
   "source": [
    "import numpy as np\n",
    "\n",
    "# Generate a NumPy array of daily temperatures for a month (30 days)\n",
    "daily_temperatures = np.random.uniform(low=-10, high=35, size=28)\n",
    "\n",
    "# Reshape the array into a 2D array where each row represents a week (4 weeks of 7 days)\n",
    "weekly_temperatures = daily_temperatures.reshape(4, 7)\n",
    "\n",
    "# Calculate the weekly averages\n",
    "weekly_averages = np.mean(weekly_temperatures, axis=1)\n",
    "\n",
    "print(\"Daily Temperatures:\")\n",
    "print(daily_temperatures)\n",
    "\n",
    "print(\"\\nWeekly Temperatures:\")\n",
    "print(weekly_temperatures)\n",
    "\n",
    "print(\"\\nWeekly Averages:\")\n",
    "print(weekly_averages)\n"
   ]
  },
  {
   "cell_type": "code",
   "execution_count": null,
   "id": "6cbf85c3-89e8-4cf3-8b03-e18bfdb90e19",
   "metadata": {},
   "outputs": [],
   "source": []
  }
 ],
 "metadata": {
  "kernelspec": {
   "display_name": "Python 3 (ipykernel)",
   "language": "python",
   "name": "python3"
  },
  "language_info": {
   "codemirror_mode": {
    "name": "ipython",
    "version": 3
   },
   "file_extension": ".py",
   "mimetype": "text/x-python",
   "name": "python",
   "nbconvert_exporter": "python",
   "pygments_lexer": "ipython3",
   "version": "3.12.6"
  }
 },
 "nbformat": 4,
 "nbformat_minor": 5
}
